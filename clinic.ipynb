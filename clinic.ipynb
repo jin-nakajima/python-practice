{
 "cells": [
  {
   "cell_type": "code",
   "execution_count": 2,
   "metadata": {},
   "outputs": [],
   "source": [
    "class Human():\n",
    "    def __init__(self, name):\n",
    "        # 名前\n",
    "        self.name = name"
   ]
  },
  {
   "cell_type": "code",
   "execution_count": 4,
   "metadata": {},
   "outputs": [],
   "source": [
    "class Patient(Human):\n",
    "    def __init__(self, name, patient_id, symptom):\n",
    "        super().__init__(name)\n",
    "        # 症状\n",
    "        self.symptom = symptom\n",
    "        # 診察番号\n",
    "        self.patient_id = patient_id"
   ]
  },
  {
   "cell_type": "code",
   "execution_count": 5,
   "metadata": {},
   "outputs": [],
   "source": [
    "class Clinic():\n",
    "    def __init__(self):\n",
    "        self.patient_list = []\n",
    "    \n",
    "    # 町人数表示\n",
    "    def show_waiting_count(self):\n",
    "        print(f'只今の町人数は{len(self.patient_list)}人です．')\n",
    "        \n",
    "    # 予約\n",
    "    def reserve(self, patient):\n",
    "        if self._check_reserved(patient):\n",
    "            print(f'{patient.name}さんはすでに予約済です．')\n",
    "        else:\n",
    "            print(f'{patient.name}さん予約完了')\n",
    "            self.patient_list.append(patient)\n",
    "    \n",
    "    # 診察\n",
    "    def diagnosis(self, patient_id=None):\n",
    "        # 患者指定ナシの場合順番に\n",
    "        patient = None\n",
    "        if patient_id == None:\n",
    "            if len(self.patient_list) > 0:\n",
    "                patient = self.patient_list[0]\n",
    "            else:\n",
    "                for p in self.patient_list:\n",
    "                    if p.patient_id == patient_id:\n",
    "                        patient = p\n",
    "            \n",
    "        # 診察患者がいない場合\n",
    "        if patient == None:\n",
    "            print('診察患者いません.')\n",
    "        else:\n",
    "            print(f'{patient.name}さん {patient.symptom}ですね')\n",
    "            \n",
    "            # 診察リストから除外\n",
    "            self.patient_list.remove(patient)\n",
    "            \n",
    "    # 予約済み確認\n",
    "    def _check_reserved(self, patient):\n",
    "        for p in self.patient_list:\n",
    "            if p.patient_id == patient.patient_id:\n",
    "                return True\n",
    "        return False"
   ]
  },
  {
   "cell_type": "code",
   "execution_count": 6,
   "metadata": {},
   "outputs": [],
   "source": [
    "myclinic = Clinic()"
   ]
  },
  {
   "cell_type": "code",
   "execution_count": 8,
   "metadata": {},
   "outputs": [],
   "source": [
    "patients = [['foo','111','seki'],\n",
    "          ['baz','222','hukutu'],\n",
    "          ['hoge','333','hana'],\n",
    "          ['huga','444','kentai'],\n",
    "          ['hoL','555','inhuru'],]"
   ]
  },
  {
   "cell_type": "code",
   "execution_count": 11,
   "metadata": {},
   "outputs": [
    {
     "name": "stdout",
     "output_type": "stream",
     "text": [
      "fooさん予約完了\n",
      "bazさん予約完了\n",
      "hogeさん予約完了\n",
      "hugaさん予約完了\n",
      "hoLさん予約完了\n"
     ]
    }
   ],
   "source": [
    "# 患者予約\n",
    "for p in patients:\n",
    "    name, age, symptom = p\n",
    "    \n",
    "    patient = Patient(name, age, symptom)\n",
    "    \n",
    "    myclinic.reserve(patient)"
   ]
  },
  {
   "cell_type": "code",
   "execution_count": 12,
   "metadata": {},
   "outputs": [],
   "source": [
    "me = Patient('hoL','555','inhuru')"
   ]
  },
  {
   "cell_type": "code",
   "execution_count": 13,
   "metadata": {},
   "outputs": [
    {
     "name": "stdout",
     "output_type": "stream",
     "text": [
      "hoLさんはすでに予約済です．\n"
     ]
    }
   ],
   "source": [
    "myclinic.reserve(me)"
   ]
  },
  {
   "cell_type": "code",
   "execution_count": 14,
   "metadata": {},
   "outputs": [
    {
     "name": "stdout",
     "output_type": "stream",
     "text": [
      "只今の町人数は5人です．\n"
     ]
    }
   ],
   "source": [
    "myclinic.show_waiting_count()"
   ]
  },
  {
   "cell_type": "code",
   "execution_count": 15,
   "metadata": {},
   "outputs": [
    {
     "name": "stdout",
     "output_type": "stream",
     "text": [
      "fooさん sekiですね\n"
     ]
    }
   ],
   "source": [
    "myclinic.diagnosis()"
   ]
  },
  {
   "cell_type": "code",
   "execution_count": null,
   "metadata": {},
   "outputs": [],
   "source": []
  }
 ],
 "metadata": {
  "kernelspec": {
   "display_name": "Python 3",
   "language": "python",
   "name": "python3"
  },
  "language_info": {
   "codemirror_mode": {
    "name": "ipython",
    "version": 3
   },
   "file_extension": ".py",
   "mimetype": "text/x-python",
   "name": "python",
   "nbconvert_exporter": "python",
   "pygments_lexer": "ipython3",
   "version": "3.6.7"
  }
 },
 "nbformat": 4,
 "nbformat_minor": 2
}
