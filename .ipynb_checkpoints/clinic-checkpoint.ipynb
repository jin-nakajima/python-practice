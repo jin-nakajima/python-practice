{
 "cells": [
  {
   "cell_type": "code",
   "execution_count": 2,
   "metadata": {},
   "outputs": [],
   "source": [
    "class Human():\n",
    "    def __init__(self, name):\n",
    "        # 名前\n",
    "        self.name = name"
   ]
  },
  {
   "cell_type": "code",
   "execution_count": 4,
   "metadata": {},
   "outputs": [],
   "source": [
    "class Patient(Human):\n",
    "    def __init__(self, name, patient_id, symptom):\n",
    "        super().__init__(name)\n",
    "        # 症状\n",
    "        self.symptom = symptom\n",
    "        # 診察番号\n",
    "        self.patient_id = patient_id"
   ]
  },
  {
   "cell_type": "code",
   "execution_count": 5,
   "metadata": {},
   "outputs": [],
   "source": [
    "class Clinic():\n",
    "    def __init__(self):\n",
    "        self.patient_list = []\n",
    "    \n",
    "    # 町人数表示\n",
    "    def show_waiting_count(self):\n",
    "        print(f'只今の町人数は{len(self.patient_list)}人です．')\n",
    "        \n",
    "    # 予約\n",
    "    def reserve(self, patient):\n",
    "        if self._check_reserved(patient):\n",
    "            print(f'{patient.name}さんはすでに予約済です．')\n",
    "        else:\n",
    "            print(f'{patient.name}さん予約完了')\n",
    "            self.patient_list.append(patient)\n",
    "    \n",
    "    # 診察\n",
    "    def diagnosis(self, patient_id=None):\n",
    "        # 患者指定ナシの場合順番に\n",
    "        patient = None\n",
    "        if patient_id == None:\n",
    "            if len(self.patient_list) > 0:\n",
    "                patient = self.patient_list[0]\n",
    "            else:\n",
    "                for p in self.patient_list:\n",
    "                    if p.patient_id == patient_id:\n",
    "                        patient = p\n",
    "            \n",
    "        # 診察患者がいない場合\n",
    "        if patient == None:\n",
    "            print('診察患者いません.')\n",
    "        else:\n",
    "            print(f'{patient.name}さん {patient.symptom}ですね')\n",
    "            \n",
    "            # 診察リストから除外\n",
    "            self.patient_list.remove(patient)\n",
    "            \n",
    "    # 予約済み確認\n",
    "    def _check_reserved(self, patient):\n",
    "        for p in self.patient_list:\n",
    "            if p.patient_id == patient.patient_id:\n",
    "                return True\n",
    "        return False"
   ]
  },
  {
   "cell_type": "code",
   "execution_count": 6,
   "metadata": {},
   "outputs": [],
   "source": [
    "myclinic = Clinic()"
   ]
  },
  {
   "cell_type": "code",
   "execution_count": 8,
   "metadata": {},
   "outputs": [],
   "source": [
    "patients = [['foo','111','seki'],\n",
    "          ['baz','222','hukutu'],\n",
    "          ['hoge','333','hana'],\n",
    "          ['huga','444','kentai'],\n",
    "          ['hoL','555','inhuru'],]"
   ]
  },
  {
   "cell_type": "code",
   "execution_count": 10,
   "metadata": {},
   "outputs": [
    {
     "name": "stdout",
     "output_type": "stream",
     "text": [
      "foo\n"
     ]
    },
    {
     "ename": "AttributeError",
     "evalue": "'list' object has no attribute 'name'",
     "output_type": "error",
     "traceback": [
      "\u001b[1;31m---------------------------------------------------------------------------\u001b[0m",
      "\u001b[1;31mAttributeError\u001b[0m                            Traceback (most recent call last)",
      "\u001b[1;32m<ipython-input-10-a9353ba2ec7d>\u001b[0m in \u001b[0;36m<module>\u001b[1;34m\u001b[0m\n\u001b[0;32m      6\u001b[0m     \u001b[0mpatinet\u001b[0m \u001b[1;33m=\u001b[0m \u001b[0mPatient\u001b[0m\u001b[1;33m(\u001b[0m\u001b[0mname\u001b[0m\u001b[1;33m,\u001b[0m \u001b[0mage\u001b[0m\u001b[1;33m,\u001b[0m \u001b[0msymptom\u001b[0m\u001b[1;33m)\u001b[0m\u001b[1;33m\u001b[0m\u001b[1;33m\u001b[0m\u001b[0m\n\u001b[0;32m      7\u001b[0m \u001b[1;33m\u001b[0m\u001b[0m\n\u001b[1;32m----> 8\u001b[1;33m     \u001b[0mmyclinic\u001b[0m\u001b[1;33m.\u001b[0m\u001b[0mreserve\u001b[0m\u001b[1;33m(\u001b[0m\u001b[0mpatient\u001b[0m\u001b[1;33m)\u001b[0m\u001b[1;33m\u001b[0m\u001b[1;33m\u001b[0m\u001b[0m\n\u001b[0m",
      "\u001b[1;32m<ipython-input-5-07990a6df252>\u001b[0m in \u001b[0;36mreserve\u001b[1;34m(self, patient)\u001b[0m\n\u001b[0;32m     12\u001b[0m             \u001b[0mprint\u001b[0m\u001b[1;33m(\u001b[0m\u001b[1;34mf'{patient.name}さんはすでに予約済です．'\u001b[0m\u001b[1;33m)\u001b[0m\u001b[1;33m\u001b[0m\u001b[1;33m\u001b[0m\u001b[0m\n\u001b[0;32m     13\u001b[0m         \u001b[1;32melse\u001b[0m\u001b[1;33m:\u001b[0m\u001b[1;33m\u001b[0m\u001b[1;33m\u001b[0m\u001b[0m\n\u001b[1;32m---> 14\u001b[1;33m             \u001b[0mprint\u001b[0m\u001b[1;33m(\u001b[0m\u001b[1;34mf'{patient.name}さん予約完了'\u001b[0m\u001b[1;33m)\u001b[0m\u001b[1;33m\u001b[0m\u001b[1;33m\u001b[0m\u001b[0m\n\u001b[0m\u001b[0;32m     15\u001b[0m             \u001b[0mself\u001b[0m\u001b[1;33m.\u001b[0m\u001b[0mpatient_list\u001b[0m\u001b[1;33m.\u001b[0m\u001b[0mappend\u001b[0m\u001b[1;33m(\u001b[0m\u001b[0mpatient\u001b[0m\u001b[1;33m)\u001b[0m\u001b[1;33m\u001b[0m\u001b[1;33m\u001b[0m\u001b[0m\n\u001b[0;32m     16\u001b[0m \u001b[1;33m\u001b[0m\u001b[0m\n",
      "\u001b[1;31mAttributeError\u001b[0m: 'list' object has no attribute 'name'"
     ]
    }
   ],
   "source": [
    "# 患者予約\n",
    "for p in patients:\n",
    "    name, age, symptom = p\n",
    "    \n",
    "    patinet = Patient(name, age, symptom)\n",
    "    \n",
    "    myclinic.reserve(patient)"
   ]
  },
  {
   "cell_type": "code",
   "execution_count": null,
   "metadata": {},
   "outputs": [],
   "source": []
  }
 ],
 "metadata": {
  "kernelspec": {
   "display_name": "Python 3",
   "language": "python",
   "name": "python3"
  },
  "language_info": {
   "codemirror_mode": {
    "name": "ipython",
    "version": 3
   },
   "file_extension": ".py",
   "mimetype": "text/x-python",
   "name": "python",
   "nbconvert_exporter": "python",
   "pygments_lexer": "ipython3",
   "version": "3.6.7"
  }
 },
 "nbformat": 4,
 "nbformat_minor": 2
}
